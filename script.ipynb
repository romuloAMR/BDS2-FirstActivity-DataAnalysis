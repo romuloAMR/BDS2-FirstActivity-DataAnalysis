{
 "cells": [
  {
   "cell_type": "markdown",
   "metadata": {},
   "source": [
    "# Data Analysis"
   ]
  },
  {
   "cell_type": "markdown",
   "metadata": {},
   "source": [
    "#### Importing libraries"
   ]
  },
  {
   "cell_type": "code",
   "execution_count": 108,
   "metadata": {},
   "outputs": [],
   "source": [
    "import pandas as pd\n",
    "import matplotlib.pyplot as plt\n",
    "import numpy as np"
   ]
  },
  {
   "cell_type": "markdown",
   "metadata": {},
   "source": [
    "#### Importing Data frame"
   ]
  },
  {
   "cell_type": "code",
   "execution_count": 86,
   "metadata": {},
   "outputs": [
    {
     "name": "stdout",
     "output_type": "stream",
     "text": [
      "<class 'pandas.core.frame.DataFrame'>\n",
      "RangeIndex: 180 entries, 0 to 179\n",
      "Data columns (total 3 columns):\n",
      " #   Column     Non-Null Count  Dtype  \n",
      "---  ------     --------------  -----  \n",
      " 0   Algorithm  180 non-null    object \n",
      " 1   Size       180 non-null    int64  \n",
      " 2   Time       180 non-null    float64\n",
      "dtypes: float64(1), int64(1), object(1)\n",
      "memory usage: 4.3+ KB\n"
     ]
    },
    {
     "data": {
      "text/html": [
       "<div>\n",
       "<style scoped>\n",
       "    .dataframe tbody tr th:only-of-type {\n",
       "        vertical-align: middle;\n",
       "    }\n",
       "\n",
       "    .dataframe tbody tr th {\n",
       "        vertical-align: top;\n",
       "    }\n",
       "\n",
       "    .dataframe thead th {\n",
       "        text-align: right;\n",
       "    }\n",
       "</style>\n",
       "<table border=\"1\" class=\"dataframe\">\n",
       "  <thead>\n",
       "    <tr style=\"text-align: right;\">\n",
       "      <th></th>\n",
       "      <th>Algorithm</th>\n",
       "      <th>Size</th>\n",
       "      <th>Time</th>\n",
       "    </tr>\n",
       "  </thead>\n",
       "  <tbody>\n",
       "    <tr>\n",
       "      <th>0</th>\n",
       "      <td>QuickSortI</td>\n",
       "      <td>1000</td>\n",
       "      <td>0.000109</td>\n",
       "    </tr>\n",
       "    <tr>\n",
       "      <th>1</th>\n",
       "      <td>QuickSortI</td>\n",
       "      <td>1000</td>\n",
       "      <td>0.000090</td>\n",
       "    </tr>\n",
       "    <tr>\n",
       "      <th>2</th>\n",
       "      <td>QuickSortI</td>\n",
       "      <td>1000</td>\n",
       "      <td>0.000050</td>\n",
       "    </tr>\n",
       "    <tr>\n",
       "      <th>3</th>\n",
       "      <td>QuickSortI</td>\n",
       "      <td>1000</td>\n",
       "      <td>0.000031</td>\n",
       "    </tr>\n",
       "    <tr>\n",
       "      <th>4</th>\n",
       "      <td>QuickSortI</td>\n",
       "      <td>1000</td>\n",
       "      <td>0.000026</td>\n",
       "    </tr>\n",
       "  </tbody>\n",
       "</table>\n",
       "</div>"
      ],
      "text/plain": [
       "    Algorithm  Size      Time\n",
       "0  QuickSortI  1000  0.000109\n",
       "1  QuickSortI  1000  0.000090\n",
       "2  QuickSortI  1000  0.000050\n",
       "3  QuickSortI  1000  0.000031\n",
       "4  QuickSortI  1000  0.000026"
      ]
     },
     "execution_count": 86,
     "metadata": {},
     "output_type": "execute_result"
    }
   ],
   "source": [
    "data = pd.read_csv(\"BDS.csv\")\n",
    "data.info()\n",
    "data.head()"
   ]
  },
  {
   "cell_type": "markdown",
   "metadata": {},
   "source": [
    "#### Partitioning the data"
   ]
  },
  {
   "cell_type": "code",
   "execution_count": 87,
   "metadata": {},
   "outputs": [],
   "source": [
    "# Algorithm names and sizes\n",
    "algorithms = [\"QuickSortI\", \"QuickSortR\"]\n",
    "sizes = [1000, 10000, 100000]"
   ]
  },
  {
   "cell_type": "code",
   "execution_count": 88,
   "metadata": {},
   "outputs": [
    {
     "data": {
      "text/plain": [
       "{'QuickSortI1000': np.float64(4.7100000000000006e-05),\n",
       " 'QuickSortI10000': np.float64(0.0010403333333333334),\n",
       " 'QuickSortI100000': np.float64(0.008881633333333333),\n",
       " 'QuickSortR1000': np.float64(3.213333333333333e-05),\n",
       " 'QuickSortR10000': np.float64(0.0008948666666666668),\n",
       " 'QuickSortR100000': np.float64(0.009425633333333334)}"
      ]
     },
     "execution_count": 88,
     "metadata": {},
     "output_type": "execute_result"
    }
   ],
   "source": [
    "# Calculating means\n",
    "means = {}\n",
    "for algorithm in algorithms:\n",
    "    for size in sizes:\n",
    "        filtered_data = data.loc[(data['Algorithm'] == algorithm) & (data['Size'] == size), 'Time']\n",
    "        means[(algorithm + str(size))] = filtered_data.mean() if not filtered_data.empty else 0\n",
    "means"
   ]
  },
  {
   "cell_type": "markdown",
   "metadata": {},
   "source": [
    "#### Bar graphs"
   ]
  },
  {
   "cell_type": "code",
   "execution_count": 107,
   "metadata": {},
   "outputs": [
    {
     "name": "stdout",
     "output_type": "stream",
     "text": [
      "{'QuickSortI1000': np.float64(4.7100000000000006e-05), 'QuickSortI10000': np.float64(0.0010403333333333334), 'QuickSortI100000': np.float64(0.008881633333333333), 'QuickSortR1000': np.float64(3.213333333333333e-05), 'QuickSortR10000': np.float64(0.0008948666666666668), 'QuickSortR100000': np.float64(0.009425633333333334)}\n"
     ]
    },
    {
     "data": {
      "image/png": "[encoded data removed]",
      "text/plain": [
       "<Figure size 1200x600 with 2 Axes>"
      ]
     },
     "metadata": {},
     "output_type": "display_data"
    }
   ],
   "source": [
    "print(means)\n",
    "fig, ax = plt.subplots(1, len(algorithms), figsize=(12, 6), sharey=True)\n",
    "\n",
    "for col, algorithm in enumerate(algorithms):\n",
    "    y_values = [means[(algorithm + str(size))] for size in sizes]\n",
    "    ax[col].bar(sizes, y_values, label=algorithm)\n",
    "    ax[col].set_title(algorithm)\n",
    "    ax[col].set_ylabel('Means')\n",
    "    ax[col].set_xlabel('Sizes')\n",
    "    ax[col].set_xticks(sizes)\n",
    "    ax[col].set_xticklabels(sizes)\n",
    "    ax[col].legend()\n",
    "\n",
    "plt.tight_layout()\n",
    "plt.show()"
   ]
  }
 ],
 "metadata": {
  "kernelspec": {
   "display_name": "Python 3",
   "language": "python",
   "name": "python3"
  },
  "language_info": {
   "codemirror_mode": {
    "name": "ipython",
    "version": 3
   },
   "file_extension": ".py",
   "mimetype": "text/x-python",
   "name": "python",
   "nbconvert_exporter": "python",
   "pygments_lexer": "ipython3",
   "version": "3.12.7"
  }
 },
 "nbformat": 4,
 "nbformat_minor": 2
}
